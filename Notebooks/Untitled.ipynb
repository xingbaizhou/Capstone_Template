{
 "cells": [
  {
   "cell_type": "markdown",
   "id": "8c453d52",
   "metadata": {},
   "source": [
    "# Spring 1 Plant Classification EDA \n",
    "### Author: Baizhou Xing Joe\n",
    "### Created: 2023-07-23"
   ]
  },
  {
   "cell_type": "code",
   "execution_count": 12,
   "id": "60f2e330",
   "metadata": {},
   "outputs": [],
   "source": [
    "import numpy as np\n",
    "import pandas as pd\n",
    "import matplotlib.pyplot as plt\n",
    "import seaborn as sns\n",
    "from scipy import stats\n",
    "import os"
   ]
  },
  {
   "cell_type": "code",
   "execution_count": 17,
   "id": "707e2b70",
   "metadata": {},
   "outputs": [],
   "source": [
    "os.chdir(\"C:\\\\Users\\\\baizh\\\\Documents\\\\data\\\\flowers\")"
   ]
  },
  {
   "cell_type": "code",
   "execution_count": 20,
   "id": "c2049827",
   "metadata": {},
   "outputs": [
    {
     "data": {
      "text/plain": [
       "'C:\\\\Users\\\\baizh\\\\Documents\\\\data\\\\flowers'"
      ]
     },
     "execution_count": 20,
     "metadata": {},
     "output_type": "execute_result"
    }
   ],
   "source": [
    "os.getcwd()"
   ]
  },
  {
   "cell_type": "markdown",
   "id": "b930edd4",
   "metadata": {},
   "source": [
    "There is a total of 105 different plants files, next, examine the number of photo in each plant class."
   ]
  },
  {
   "cell_type": "code",
   "execution_count": 41,
   "id": "0bd4f8fb",
   "metadata": {
    "scrolled": false
   },
   "outputs": [
    {
     "name": "stdout",
     "output_type": "stream",
     "text": [
      "The total number of plants files are 105\n",
      "\n",
      "['Acer_Campestre', 'Acer_Capillipes', 'Acer_Circinatum', 'Acer_Mono', 'Acer_Opalus', 'Acer_Palmatum', 'Acer_Pictum', 'Acer_Platanoids', 'Acer_Rubrum', 'Acer_Rufinerve', 'Acer_Saccharinum', 'Alnus_Cordata', 'Alnus_Maximowiczii', 'Alnus_Rubra', 'Alnus_Sieboldiana', 'Alnus_Viridis', 'Arundinaria_Simonii', 'Betula_Austrosinensis', 'Betula_Pendula', 'Callicarpa_Bodinieri', 'Castanea_Sativa', 'Celtis_Koraiensis', 'Cercis_Siliquastrum', 'Cornus_Chinensis', 'Cornus_Controversa', 'Cornus_Macrophylla', 'Cotinus_Coggygria', 'Crataegus_Monogyna', 'Cytisus_Battandieri', 'daisy', 'dandelion', 'Eucalyptus_Glaucescens', 'Eucalyptus_Neglecta', 'Eucalyptus_Urnigera', 'Fagus_Sylvatica', 'Ginkgo_Biloba', 'Ilex_Aquifolium', 'Ilex_Cornuta', 'Liquidambar_Styraciflua', 'Liriodendron_Tulipifera', 'Lithocarpus_Cleistocarpus', 'Lithocarpus_Edulis', 'Magnolia_Heptapeta', 'Magnolia_Salicifolia', 'Morus_Nigra', 'Olea_Europaea', 'Phildelphus', 'Populus_Adenopoda', 'Populus_Grandidentata', 'Populus_Nigra', 'Prunus_Avium', 'Prunus_X_Shmittii', 'Pterocarya_Stenoptera', 'Quercus_Afares', 'Quercus_Agrifolia', 'Quercus_Alnifolia', 'Quercus_Brantii', 'Quercus_Canariensis', 'Quercus_Castaneifolia', 'Quercus_Cerris', 'Quercus_Chrysolepis', 'Quercus_Coccifera', 'Quercus_Coccinea', 'Quercus_Crassifolia', 'Quercus_Crassipes', 'Quercus_Dolicholepis', 'Quercus_Ellipsoidalis', 'Quercus_Greggii', 'Quercus_Hartwissiana', 'Quercus_Ilex', 'Quercus_Imbricaria', 'Quercus_Infectoria_sub', 'Quercus_Kewensis', 'Quercus_Nigra', 'Quercus_Palustris', 'Quercus_Phellos', 'Quercus_Phillyraeoides', 'Quercus_Pontica', 'Quercus_Pubescens', 'Quercus_Pyrenaica', 'Quercus_Rhysophylla', 'Quercus_Rubra', 'Quercus_Semecarpifolia', 'Quercus_Shumardii', 'Quercus_Suber', 'Quercus_Texana', 'Quercus_Trojana', 'Quercus_Variabilis', 'Quercus_Vulcanica', 'Quercus_x_Hispanica', 'Quercus_x_Turneri', 'Rhododendron_x_Russellianum', 'rose', 'Salix_Fragilis', 'Salix_Intergra', 'Sorbus_Aria', 'sunflower', 'Tilia_Oliveri', 'Tilia_Platyphyllos', 'Tilia_Tomentosa', 'tulip', 'Ulmus_Bergmanniana', 'Viburnum_Tinus', 'Viburnum_x_Rhytidophylloides', 'Zelkova_Serrata']\n"
     ]
    }
   ],
   "source": [
    "dname = os.listdir()\n",
    "print(\"The total number of plants files are \" + str(len(dname)) + \"\\n\\n\" + str(dname))"
   ]
  },
  {
   "cell_type": "code",
   "execution_count": 30,
   "id": "d9b0c861",
   "metadata": {},
   "outputs": [
    {
     "data": {
      "text/plain": [
       "105"
      ]
     },
     "execution_count": 30,
     "metadata": {},
     "output_type": "execute_result"
    }
   ],
   "source": [
    "len(dname)"
   ]
  },
  {
   "cell_type": "markdown",
   "id": "2b6c1005",
   "metadata": {},
   "source": [
    "Create a dictionary `p_class` for classification, the key is the class name of a plant, the value is the number of photo contained in each class. "
   ]
  },
  {
   "cell_type": "code",
   "execution_count": 45,
   "id": "ce88ce7f",
   "metadata": {},
   "outputs": [
    {
     "data": {
      "text/plain": [
       "{'Acer_Campestre': 16,\n",
       " 'Acer_Capillipes': 16,\n",
       " 'Acer_Circinatum': 16,\n",
       " 'Acer_Mono': 16,\n",
       " 'Acer_Opalus': 16,\n",
       " 'Acer_Palmatum': 16,\n",
       " 'Acer_Pictum': 16,\n",
       " 'Acer_Platanoids': 16,\n",
       " 'Acer_Rubrum': 16,\n",
       " 'Acer_Rufinerve': 16,\n",
       " 'Acer_Saccharinum': 16,\n",
       " 'Alnus_Cordata': 16,\n",
       " 'Alnus_Maximowiczii': 16,\n",
       " 'Alnus_Rubra': 16,\n",
       " 'Alnus_Sieboldiana': 16,\n",
       " 'Alnus_Viridis': 16,\n",
       " 'Arundinaria_Simonii': 16,\n",
       " 'Betula_Austrosinensis': 16,\n",
       " 'Betula_Pendula': 16,\n",
       " 'Callicarpa_Bodinieri': 16,\n",
       " 'Castanea_Sativa': 16,\n",
       " 'Celtis_Koraiensis': 16,\n",
       " 'Cercis_Siliquastrum': 16,\n",
       " 'Cornus_Chinensis': 16,\n",
       " 'Cornus_Controversa': 16,\n",
       " 'Cornus_Macrophylla': 16,\n",
       " 'Cotinus_Coggygria': 16,\n",
       " 'Crataegus_Monogyna': 16,\n",
       " 'Cytisus_Battandieri': 16,\n",
       " 'daisy': 764,\n",
       " 'dandelion': 1052,\n",
       " 'Eucalyptus_Glaucescens': 16,\n",
       " 'Eucalyptus_Neglecta': 16,\n",
       " 'Eucalyptus_Urnigera': 16,\n",
       " 'Fagus_Sylvatica': 16,\n",
       " 'Ginkgo_Biloba': 16,\n",
       " 'Ilex_Aquifolium': 16,\n",
       " 'Ilex_Cornuta': 16,\n",
       " 'Liquidambar_Styraciflua': 16,\n",
       " 'Liriodendron_Tulipifera': 16,\n",
       " 'Lithocarpus_Cleistocarpus': 16,\n",
       " 'Lithocarpus_Edulis': 16,\n",
       " 'Magnolia_Heptapeta': 16,\n",
       " 'Magnolia_Salicifolia': 16,\n",
       " 'Morus_Nigra': 16,\n",
       " 'Olea_Europaea': 16,\n",
       " 'Phildelphus': 16,\n",
       " 'Populus_Adenopoda': 16,\n",
       " 'Populus_Grandidentata': 16,\n",
       " 'Populus_Nigra': 16,\n",
       " 'Prunus_Avium': 16,\n",
       " 'Prunus_X_Shmittii': 16,\n",
       " 'Pterocarya_Stenoptera': 16,\n",
       " 'Quercus_Afares': 16,\n",
       " 'Quercus_Agrifolia': 16,\n",
       " 'Quercus_Alnifolia': 16,\n",
       " 'Quercus_Brantii': 16,\n",
       " 'Quercus_Canariensis': 16,\n",
       " 'Quercus_Castaneifolia': 16,\n",
       " 'Quercus_Cerris': 16,\n",
       " 'Quercus_Chrysolepis': 16,\n",
       " 'Quercus_Coccifera': 16,\n",
       " 'Quercus_Coccinea': 16,\n",
       " 'Quercus_Crassifolia': 16,\n",
       " 'Quercus_Crassipes': 16,\n",
       " 'Quercus_Dolicholepis': 16,\n",
       " 'Quercus_Ellipsoidalis': 16,\n",
       " 'Quercus_Greggii': 16,\n",
       " 'Quercus_Hartwissiana': 16,\n",
       " 'Quercus_Ilex': 16,\n",
       " 'Quercus_Imbricaria': 16,\n",
       " 'Quercus_Infectoria_sub': 16,\n",
       " 'Quercus_Kewensis': 16,\n",
       " 'Quercus_Nigra': 16,\n",
       " 'Quercus_Palustris': 16,\n",
       " 'Quercus_Phellos': 16,\n",
       " 'Quercus_Phillyraeoides': 16,\n",
       " 'Quercus_Pontica': 16,\n",
       " 'Quercus_Pubescens': 16,\n",
       " 'Quercus_Pyrenaica': 16,\n",
       " 'Quercus_Rhysophylla': 16,\n",
       " 'Quercus_Rubra': 16,\n",
       " 'Quercus_Semecarpifolia': 16,\n",
       " 'Quercus_Shumardii': 16,\n",
       " 'Quercus_Suber': 16,\n",
       " 'Quercus_Texana': 16,\n",
       " 'Quercus_Trojana': 16,\n",
       " 'Quercus_Variabilis': 16,\n",
       " 'Quercus_Vulcanica': 16,\n",
       " 'Quercus_x_Hispanica': 16,\n",
       " 'Quercus_x_Turneri': 16,\n",
       " 'Rhododendron_x_Russellianum': 16,\n",
       " 'rose': 784,\n",
       " 'Salix_Fragilis': 16,\n",
       " 'Salix_Intergra': 16,\n",
       " 'Sorbus_Aria': 16,\n",
       " 'sunflower': 733,\n",
       " 'Tilia_Oliveri': 16,\n",
       " 'Tilia_Platyphyllos': 16,\n",
       " 'Tilia_Tomentosa': 16,\n",
       " 'tulip': 984,\n",
       " 'Ulmus_Bergmanniana': 16,\n",
       " 'Viburnum_Tinus': 16,\n",
       " 'Viburnum_x_Rhytidophylloides': 16,\n",
       " 'Zelkova_Serrata': 16}"
      ]
     },
     "execution_count": 45,
     "metadata": {},
     "output_type": "execute_result"
    }
   ],
   "source": [
    "p_class ={}\n",
    "for file in dname:\n",
    "    p_class[file] = len(os.listdir(file))\n",
    "p_class\n",
    "        \n"
   ]
  },
  {
   "cell_type": "code",
   "execution_count": null,
   "id": "e869bd27",
   "metadata": {},
   "outputs": [],
   "source": [
    "p_class ={}\n",
    "for file in dname:\n",
    "    p_class[file] = len(os.listdir(file))\n",
    "p_class"
   ]
  },
  {
   "cell_type": "code",
   "execution_count": 48,
   "id": "9c665c83",
   "metadata": {},
   "outputs": [
    {
     "data": {
      "image/png": "[encoded data removed]",
      "text/plain": [
       "<Figure size 640x480 with 1 Axes>"
      ]
     },
     "metadata": {},
     "output_type": "display_data"
    }
   ],
   "source": [
    "plt.bar(p_class.keys(), p_class.values(), width = .5);\n",
    "plt.title(\"Number of Images by Class\");\n",
    "plt.xlabel('Class Name');\n",
    "plt.ylabel('# Images');"
   ]
  },
  {
   "cell_type": "markdown",
   "id": "3871ee60",
   "metadata": {},
   "source": [
    "There is 100 Classes with 16 images and 5 class with 'dandelion': 1052, 'rose': 784,'tulip': 984,'daisy': 764,'sunflower': 733"
   ]
  },
  {
   "cell_type": "code",
   "execution_count": 50,
   "id": "acc9560f",
   "metadata": {},
   "outputs": [],
   "source": [
    "def get_dims(file):\n",
    "    '''Returns dimensions for an RBG image'''\n",
    "    im = Image.open(file)\n",
    "    arr = np.array(im)\n",
    "    h,w,d = arr.shape\n",
    "    return h,w"
   ]
  },
  {
   "cell_type": "code",
   "execution_count": 51,
   "id": "e21a6ef0",
   "metadata": {},
   "outputs": [
    {
     "ename": "IndentationError",
     "evalue": "expected an indented block after 'for' statement on line 1 (972491077.py, line 2)",
     "output_type": "error",
     "traceback": [
      "\u001b[1;36m  Cell \u001b[1;32mIn[51], line 2\u001b[1;36m\u001b[0m\n\u001b[1;33m    filepath = d\u001b[0m\n\u001b[1;37m    ^\u001b[0m\n\u001b[1;31mIndentationError\u001b[0m\u001b[1;31m:\u001b[0m expected an indented block after 'for' statement on line 1\n"
     ]
    }
   ],
   "source": [
    "for n,d in p_class.items():\n",
    "filepath = d\n",
    "filelist = [filepath + f for f in os.listdir(filepath)]\n",
    "dims = bag.from_sequence(filelist).map(get_dims)\n",
    "with diagnostics.ProgressBar():\n",
    "dims = dims.compute()\n",
    "dim_df = pd.DataFrame(dims, columns=['height', 'width'])\n",
    "sizes = dim_df.groupby(['height', 'width']).size().reset_index().rename(columns={0:'count'})\n",
    "sizes.plot.scatter(x='width', y='height');\n",
    "plt.title('Image Sizes (pixels) | {}'.format(n))"
   ]
  }
 ],
 "metadata": {
  "kernelspec": {
   "display_name": "Python 3 (ipykernel)",
   "language": "python",
   "name": "python3"
  },
  "language_info": {
   "codemirror_mode": {
    "name": "ipython",
    "version": 3
   },
   "file_extension": ".py",
   "mimetype": "text/x-python",
   "name": "python",
   "nbconvert_exporter": "python",
   "pygments_lexer": "ipython3",
   "version": "3.10.9"
  }
 },
 "nbformat": 4,
 "nbformat_minor": 5
}
